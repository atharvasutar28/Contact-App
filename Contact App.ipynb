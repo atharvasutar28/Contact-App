{
 "cells": [
  {
   "cell_type": "code",
   "execution_count": 12,
   "id": "a6b5724c",
   "metadata": {},
   "outputs": [],
   "source": [
    "#I've not built a fancy UI, instead I focused on understanding the programming logic.\n",
    "\n",
    "def add_contact(contacts): # Code for adding a contact into the file\n",
    "    new_contact = {}\n",
    "    \n",
    "    new_contact[\"Name\"] = input(\"Enter Name: \")\n",
    "    new_contact[\"Number\"] = input(\"Enter Number: \")\n",
    "    new_contact[\"Email\"] = input(\"Enter Email: \")\n",
    "        \n",
    "    contacts.append(new_contact)\n",
    "    \n",
    "    print(new_contact)\n",
    "    \n",
    "    return contacts"
   ]
  },
  {
   "cell_type": "code",
   "execution_count": 13,
   "id": "bfc03a39",
   "metadata": {},
   "outputs": [],
   "source": [
    "def delete_contact(contacts, name): # Code for deleting a contact from the app\n",
    "    k = 0\n",
    "    for i in contacts:\n",
    "        if i[\"Name\"] == name:\n",
    "            del contacts[k]\n",
    "        k+=1\n",
    "    return contacts"
   ]
  },
  {
   "cell_type": "code",
   "execution_count": 14,
   "id": "be501a9d",
   "metadata": {},
   "outputs": [],
   "source": [
    "def update_contact(contacts, name): # Code for updating the contact's name, number and email in the app\n",
    "    for i in contacts:\n",
    "        if i[\"Name\"] == name:\n",
    "            op = input(\"Enter Detail to be updated(nm : Name, num : Number, e : Email, c : Closing Contact): \")\n",
    "            if op == \"nm\":\n",
    "                i[\"Name\"] = input(\"Enter Updated Name: \")\n",
    "            if op == \"num\":\n",
    "                i[\"Number\"] = input(\"Enter Updated Number: \")\n",
    "            if op == \"e\":\n",
    "                i[\"Email\"] = input(\"Enter Updated Email: \")\n",
    "            if op == \"c\":\n",
    "                print(\"Contact Closed!\")\n",
    "    return contacts"
   ]
  },
  {
   "cell_type": "code",
   "execution_count": 16,
   "id": "993d3b9e",
   "metadata": {},
   "outputs": [],
   "source": [
    "def open_contact(contacts, name): # Code for opening and displaying contact's details \n",
    "    for i in contacts:\n",
    "        if i[\"Name\"] == name:\n",
    "            for i,j in i.items():\n",
    "                print(i,\"-\",j)\n",
    "            break\n",
    "    else:\n",
    "        print(\"Not Found!\")\n",
    "    op = input(\"Enter Operation(u : Updation, d : Deletion, c : Closing Contact): \")\n",
    "    if op == \"u\":\n",
    "        update_contact(contacts, name)\n",
    "    elif op == \"d\":\n",
    "        delete_contact(contacts, name)\n",
    "    elif op == \"c\":\n",
    "        print(\"Contact Closed!\")\n",
    "    return contacts"
   ]
  },
  {
   "cell_type": "code",
   "execution_count": 17,
   "id": "53fbfd4e",
   "metadata": {},
   "outputs": [
    {
     "name": "stdout",
     "output_type": "stream",
     "text": [
      "Atharva - 8788201926\n",
      "Rohan - 7548149856\n",
      "Mahesh - 8745984561\n",
      "Press 'a' - add contact, 'o' - open contact, 'q' - quit: o\n",
      "Enter name of the contact you want to open: Atharva\n",
      "Name - Atharva\n",
      "Number - 8788201926\n",
      "Email - atharvasutar28@gmail.com\n",
      "Enter Operation(u : Updation, d : Deletion, c : Closing Contact): c\n",
      "Contact Closed!\n",
      "Atharva - 8788201926\n",
      "Rohan - 7548149856\n",
      "Mahesh - 8745984561\n",
      "Press 'a' - add contact, 'o' - open contact, 'q' - quit: o\n",
      "Enter name of the contact you want to open: Atharva\n",
      "Name - Atharva\n",
      "Number - 8788201926\n",
      "Email - atharvasutar28@gmail.com\n",
      "Enter Operation(u : Updation, d : Deletion, c : Closing Contact): u\n",
      "Enter Detail to be updated(nm : Name, num : Number, e : Email, c : Closing Contact): c\n",
      "Contact Closed!\n",
      "Atharva - 8788201926\n",
      "Rohan - 7548149856\n",
      "Mahesh - 8745984561\n",
      "Press 'a' - add contact, 'o' - open contact, 'q' - quit: q\n"
     ]
    }
   ],
   "source": [
    "from IPython.display import clear_output              # Combining all the fuctions into an loop\n",
    "\n",
    "while True:\n",
    "    for i in contacts:\n",
    "        print(i[\"Name\"],\"-\",i[\"Number\"])\n",
    "    \n",
    "    action = input(\"Press 'a' - add contact, 'o' - open contact, 'q' - quit: \")\n",
    "    if action == 'a':\n",
    "        add_contact(contacts)\n",
    "\n",
    "    elif action == 'o':\n",
    "        name = input(\"Enter name of the contact you want to open: \")        \n",
    "        open_contact(contacts, name)\n",
    "\n",
    "    elif action == 'q':\n",
    "        break\n",
    "    \n",
    "    else:\n",
    "        print(\"Not Found!\")\n",
    "        \n",
    "file = r'C:\\Users\\asus\\Desktop\\Python\\contacts.txt'                 # File name with all the contacts like a database\n",
    "\n",
    "f = open(file, mode = 'w+')\n",
    "for i in contacts:\n",
    "    f.write(i[\"Name\"] + \" , \" + i[\"Number\"] + \" , \" + i[\"Email\"] + \"\\n\")\n",
    "f.seek(0)\n",
    "data = f.read()\n",
    "f.close()"
   ]
  },
  {
   "cell_type": "code",
   "execution_count": null,
   "id": "5a4725e9",
   "metadata": {},
   "outputs": [],
   "source": []
  }
 ],
 "metadata": {
  "kernelspec": {
   "display_name": "Python 3 (ipykernel)",
   "language": "python",
   "name": "python3"
  },
  "language_info": {
   "codemirror_mode": {
    "name": "ipython",
    "version": 3
   },
   "file_extension": ".py",
   "mimetype": "text/x-python",
   "name": "python",
   "nbconvert_exporter": "python",
   "pygments_lexer": "ipython3",
   "version": "3.11.4"
  }
 },
 "nbformat": 4,
 "nbformat_minor": 5
}
